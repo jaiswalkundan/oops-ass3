{
 "cells": [
  {
   "cell_type": "code",
   "execution_count": null,
   "id": "8695d0f8-de57-4de2-be77-b9443ab4b10f",
   "metadata": {},
   "outputs": [],
   "source": [
    "Q1. What is Abstraction in OOps? Explain with an example."
   ]
  },
  {
   "cell_type": "markdown",
   "id": "2bb4643d-3082-4561-8a7c-1850265657e9",
   "metadata": {},
   "source": [
    "Abstraction in orject-oriented programming (oop) is the concept of simplifying complex system by modeling classes based on the essential\n",
    "properties and behaviours relevent to the problem at hand while ignoring unnecessary details. it involves creating abstract classes and method\n",
    "that define a blue print \n",
    " \n",
    " for example \"vehicle\" class with abstract method\n",
    " start_engine()\n",
    " stop_engine()\n",
    " class (eg. \"Car\" and \"Motorcycle\") inherit from the abstract \"Vehicle\""
   ]
  },
  {
   "cell_type": "code",
   "execution_count": null,
   "id": "42b7c6d6-a43a-44ee-89e0-ced303caa426",
   "metadata": {},
   "outputs": [],
   "source": [
    "Q2. Differentiate between Abstraction and Encapsulation. Explain with an example."
   ]
  },
  {
   "cell_type": "markdown",
   "id": "48211428-8f05-4358-9647-b3943c2c8899",
   "metadata": {},
   "source": [
    "Abstraction involves simplifying complex system by modeling classes based on relevant attributes and behaviors, focusing on essential \n",
    "details while ignoring unnecessary ones.for example a \"Car\" class abstracts the essential properties and methods of car\n",
    "\n",
    "Encapsulation on the other hand is about bunding the data(attributes) and methods (function)that operte on the data into a single unit, known as a class \n",
    "it restricts direct access to some of an object's componets and prevent the accident modification of internal state .using our \"Car\" example encapsulation might involve making fule level like 'refule()'."
   ]
  },
  {
   "cell_type": "code",
   "execution_count": null,
   "id": "4242743f-bd47-4e1c-b6dd-c8d78dfc04d0",
   "metadata": {},
   "outputs": [],
   "source": [
    "Q3. What is abc module in python? Why is it used?"
   ]
  },
  {
   "cell_type": "markdown",
   "id": "08bdf97f-95ec-4386-b92e-819ddde61a62",
   "metadata": {},
   "source": [
    "'abc' module in python stand for \"Abstact Base class\" It provides the 'ABC'(Abstact Base class) and 'abstractmethod' decorator allow\n",
    "you to define abstract classes and method.\n",
    "Using 'abc' you can enforce that certain method must be implemented in derived classes ensuring a consistent interface."
   ]
  },
  {
   "cell_type": "code",
   "execution_count": null,
   "id": "b6c90e2f-43e8-4153-95bd-522ce8f022fe",
   "metadata": {},
   "outputs": [],
   "source": [
    "Q4. How can we achieve data abstraction?"
   ]
  },
  {
   "cell_type": "code",
   "execution_count": null,
   "id": "8834635a-3ed1-4d10-95d5-6da15bb46bfa",
   "metadata": {},
   "outputs": [],
   "source": [
    "Data abstraction can be achieved through techniques like encapsulation and abstraction in programming."
   ]
  },
  {
   "cell_type": "code",
   "execution_count": null,
   "id": "e305a959-d8b0-4723-8d18-a1a559a0f760",
   "metadata": {},
   "outputs": [],
   "source": [
    "Q5. Can we create an instance of an abstract class? Explain your answer."
   ]
  },
  {
   "cell_type": "code",
   "execution_count": null,
   "id": "2b3c1498-88e6-4d83-9c0b-28f3b2be632d",
   "metadata": {},
   "outputs": [],
   "source": [
    "No, you can not create an instance of an abstract class directly Abstract classes are meant to be subclassed"
   ]
  }
 ],
 "metadata": {
  "kernelspec": {
   "display_name": "Python 3 (ipykernel)",
   "language": "python",
   "name": "python3"
  },
  "language_info": {
   "codemirror_mode": {
    "name": "ipython",
    "version": 3
   },
   "file_extension": ".py",
   "mimetype": "text/x-python",
   "name": "python",
   "nbconvert_exporter": "python",
   "pygments_lexer": "ipython3",
   "version": "3.10.8"
  }
 },
 "nbformat": 4,
 "nbformat_minor": 5
}
